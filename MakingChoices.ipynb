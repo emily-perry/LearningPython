{
 "cells": [
  {
   "cell_type": "markdown",
   "metadata": {},
   "source": [
    "## Conditionals"
   ]
  },
  {
   "cell_type": "code",
   "execution_count": 1,
   "metadata": {},
   "outputs": [
    {
     "name": "stdout",
     "output_type": "stream",
     "text": [
      "not greater\n",
      "finished\n"
     ]
    }
   ],
   "source": [
    "num = 37\n",
    "if num > 100:\n",
    "    print(\"greater\")\n",
    "else:\n",
    "    print(\"not greater\")\n",
    "\n",
    "print(\"finished\")"
   ]
  },
  {
   "cell_type": "code",
   "execution_count": 4,
   "metadata": {},
   "outputs": [
    {
     "name": "stdout",
     "output_type": "stream",
     "text": [
      "is 200\n"
     ]
    }
   ],
   "source": [
    "new_num = 200\n",
    "if new_num < 100:\n",
    "    print(\"doing something\")\n",
    "    \n",
    "elif new_num > 1000:\n",
    "    print(\"greater than 1000\")\n",
    "    \n",
    "elif new_num > 10000:\n",
    "    print(\"aa\")\n",
    "    \n",
    "elif new_num == 200:\n",
    "    print(\"is 200\")\n",
    "    \n",
    "else:\n",
    "    print(\"in between\")\n",
    "    "
   ]
  },
  {
   "cell_type": "code",
   "execution_count": 6,
   "metadata": {},
   "outputs": [
    {
     "name": "stdout",
     "output_type": "stream",
     "text": [
      "both true\n"
     ]
    }
   ],
   "source": [
    "if (1 > 0) and (-1 < 0) and (10 > 2):\n",
    "    print(\"both true\")"
   ]
  },
  {
   "cell_type": "markdown",
   "metadata": {},
   "source": [
    "## Checking our data"
   ]
  },
  {
   "cell_type": "code",
   "execution_count": 7,
   "metadata": {},
   "outputs": [],
   "source": [
    "import numpy"
   ]
  },
  {
   "cell_type": "code",
   "execution_count": 8,
   "metadata": {},
   "outputs": [
    {
     "name": "stdout",
     "output_type": "stream",
     "text": [
      "mean < 10\n"
     ]
    }
   ],
   "source": [
    "data = numpy.loadtxt('data/data/inflammation-01.csv', delimiter=',')\n",
    "mean = numpy.mean(data, axis=0)\n",
    "\n",
    "if mean[0] > 10:\n",
    "    print(\"mean > 10\")\n",
    "else:\n",
    "    print(\"mean < 10\")\n"
   ]
  },
  {
   "cell_type": "code",
   "execution_count": 9,
   "metadata": {},
   "outputs": [
    {
     "name": "stdout",
     "output_type": "stream",
     "text": [
      "data/data\\inflammation-01.csv\n",
      "data/data\\inflammation-02.csv\n",
      "data/data\\inflammation-03.csv\n",
      "susp data -check\n",
      "data/data\\inflammation-04.csv\n",
      "data/data\\inflammation-05.csv\n",
      "data/data\\inflammation-06.csv\n",
      "data/data\\inflammation-07.csv\n",
      "data/data\\inflammation-08.csv\n",
      "susp data -check\n",
      "data/data\\inflammation-09.csv\n",
      "data/data\\inflammation-10.csv\n",
      "data/data\\inflammation-11.csv\n",
      "susp data -check\n",
      "data/data\\inflammation-12.csv\n"
     ]
    }
   ],
   "source": [
    "import glob\n",
    "\n",
    "filenames = sorted(glob.glob('data/data/inflammation-*.csv'))\n",
    "\n",
    "for filename in filenames:\n",
    "    print(filename)\n",
    "    data = numpy.loadtxt(filename, delimiter=',')\n",
    "    \n",
    "    min_value = numpy.min(data, axis=0)\n",
    "    \n",
    "    sum_of_min = numpy.sum(min_value)\n",
    "    \n",
    "    if sum_of_min == 0:\n",
    "        print(\"suspicous data -check\")"
   ]
  },
  {
   "cell_type": "code",
   "execution_count": 10,
   "metadata": {},
   "outputs": [],
   "source": [
    "## above tell you if you have odd data, good check"
   ]
  },
  {
   "cell_type": "code",
   "execution_count": 15,
   "metadata": {},
   "outputs": [
    {
     "name": "stdout",
     "output_type": "stream",
     "text": [
      "summer is going away..\n"
     ]
    }
   ],
   "source": [
    "temp = 20\n",
    "if temp > 20:\n",
    "    print(\"yay summer!\")\n",
    "\n",
    "elif temp < 10:\n",
    "    print(\"bet it'll rain today\")\n",
    "\n",
    "else:\n",
    "    print(\"summer is going away..\")"
   ]
  },
  {
   "cell_type": "code",
   "execution_count": null,
   "metadata": {},
   "outputs": [],
   "source": []
  }
 ],
 "metadata": {
  "kernelspec": {
   "display_name": "Python 3",
   "language": "python",
   "name": "python3"
  },
  "language_info": {
   "codemirror_mode": {
    "name": "ipython",
    "version": 3
   },
   "file_extension": ".py",
   "mimetype": "text/x-python",
   "name": "python",
   "nbconvert_exporter": "python",
   "pygments_lexer": "ipython3",
   "version": "3.8.3"
  }
 },
 "nbformat": 4,
 "nbformat_minor": 4
}
